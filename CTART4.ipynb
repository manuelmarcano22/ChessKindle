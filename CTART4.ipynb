{
 "cells": [
  {
   "cell_type": "code",
   "execution_count": 171,
   "metadata": {},
   "outputs": [],
   "source": [
    "import chess.pgn\n",
    "import numpy as np\n",
    "import os"
   ]
  },
  {
   "cell_type": "markdown",
   "metadata": {},
   "source": [
    "Here for subvariations in parenthesis\n",
    "\n",
    "https://tex.stackexchange.com/questions/5727/typesetting-nested-chess-variations-in-skak\n",
    "\n",
    "como:\n",
    "\n",
    " {\\variation[invar]{1... Qxg3 2. Nf6+ } (\\variation[invar]{2. Nxg3 gxh6})(\\variation[invar]{ 2... Rxf2 3. Qh5})(\\variation[invar]{2... Rf6 3. Qg5})}    "
   ]
  },
  {
   "cell_type": "code",
   "execution_count": 172,
   "metadata": {},
   "outputs": [],
   "source": [
    "pgn = open('CTART6Tactics.pgn')\n"
   ]
  },
  {
   "cell_type": "code",
   "execution_count": 173,
   "metadata": {},
   "outputs": [],
   "source": [
    "dividedgames = []\n",
    "\n",
    "gamechap = []\n",
    "\n",
    "\n",
    "\n",
    "turnb = 'Black to move'\n",
    "turnw = 'White to move'\n",
    "turn = turnw\n",
    "\n",
    "\n",
    "\n",
    "while True:\n",
    "    game = pgn.tell()\n",
    "    gamepgn = chess.pgn.read_game(pgn)\n",
    "    #print(headers.get('White'))\n",
    "    if gamepgn is None:\n",
    "        break\n",
    "    #if gamepgn.headers['White'] == turn:\n",
    "    gamechap.append(gamepgn)\n",
    "    dividedgames.append(gamechap)"
   ]
  },
  {
   "cell_type": "code",
   "execution_count": 174,
   "metadata": {},
   "outputs": [],
   "source": [
    "gamepgn"
   ]
  },
  {
   "cell_type": "code",
   "execution_count": 175,
   "metadata": {},
   "outputs": [],
   "source": [
    "r = gamechap[0]"
   ]
  },
  {
   "cell_type": "code",
   "execution_count": null,
   "metadata": {},
   "outputs": [],
   "source": []
  },
  {
   "cell_type": "code",
   "execution_count": 176,
   "metadata": {},
   "outputs": [
    {
     "data": {
      "text/plain": [
       "4054"
      ]
     },
     "execution_count": 176,
     "metadata": {},
     "output_type": "execute_result"
    }
   ],
   "source": [
    "len(gamechap)"
   ]
  },
  {
   "cell_type": "code",
   "execution_count": 177,
   "metadata": {},
   "outputs": [],
   "source": [
    "n = 'uno.txt'\n",
    "with open(n,'w') as f:\n",
    "\n",
    "    for g in gamechap[0:100]:\n",
    "\n",
    "        game = g#gamechap[0]\n",
    "        \n",
    "        if 'w' in game.headers['FEN']:\n",
    "            turntoplay = True\n",
    "        else: \n",
    "            turntoplay = False\n",
    "\n",
    "        mainlinestemp = str(game.mainline_moves())\n",
    "        fentemp = game.headers['FEN']\n",
    "\n",
    "        f.write(f\"\\\\fenboard{{{fentemp}}}\\n\")\n",
    "        f.write('\\\\begin{center}\\n')\n",
    "        #f.write(f\"\\\\showboard \\n\")\n",
    "            #\\chessboard[{}},inverse=false]\n",
    "        if turntoplay:\n",
    "            f.write(f\"\\\\showboard \\n\")\n",
    "        else:\n",
    "            f.write(f\"\\\\showinverseboard \\n\")\n",
    "\n",
    "        #f.write(f\"\\\\chessboard[setfen={fentemp},inverse={turntoplay}]\\n\")\n",
    "        f.write('\\\\end{center}\\n')\n",
    "\n",
    "        #f.write(f\"\\\\mainline{{{mainlinestemp}}}\")\n",
    "        f.write(f\"\\\\clearpage \\n\")\n",
    "        f.write(f\"\\\\newpage \\n\")\n",
    "\n",
    "\n",
    "        f.write(f\"\\\\mainline{{{mainlinestemp}}}\")\n",
    "\n",
    "        f.write(f\"\\\\fenboard{{{fentemp}}}\\n\")\n",
    "        f.write('\\\\begin{center}\\n')\n",
    "        \n",
    "        if turntoplay:\n",
    "            f.write(f\"\\\\showboard \\n\")\n",
    "        else:\n",
    "            f.write(f\"\\\\showinverseboard \\n\")\n",
    "            \n",
    "\n",
    "        #f.write(f\"\\\\chessboard[setfen={fentemp},inverse={inv}]\\n\")\n",
    "        f.write('\\\\end{center}\\n')\n",
    "\n",
    "        f.write(f\"\\\\fenboard{{{fentemp}}}\\n\")\n",
    "\n",
    "\n",
    "        #Write variations\n",
    "        if len(game.variations) > 0:\n",
    "            f.write('\\\\begin{itemize}\\n')\n",
    "            for var in game.variations:\n",
    "                #for v2 in var.parent.variations[0]:\n",
    "                #print('t',var)\n",
    "                vtoprint = str(var).split('(')\n",
    "                #print('z',vtoprint)\n",
    "                #t = enclosed.parseString(str(var))\n",
    "                #v22 = re.search(r'\\((.*?)\\)',str(var))\n",
    "                #print(v22)\n",
    "                    #par = vtoprint[vtoprint.find(\"(\")+1:vtoprint.find(\")\")]\n",
    "                    #print(var)\n",
    "                    #print('a',vtoprint,len(vtoprint))\n",
    "                    #Tor pint variatons like herewih skar\n",
    "                if len(vtoprint) > 1:\n",
    "                    #print(vtoprint)\n",
    "                    f.write(f\"\\\\item \\\\variation{{{vtoprint[0]}}}\\n\")\n",
    "                    for i in vtoprint[1:]:\n",
    "                        for j in i.split(')'):\n",
    "                            if j.strip() == '':\n",
    "                                si = 'a'\n",
    "                            else:\n",
    "                                f.write(  f\"(\\\\variation[invar]{{{j}}})\")\n",
    "                                #print('b',j.strip())\n",
    "\n",
    "                                #f.write(f\"\\\\item \\\\variation{{{var}}}\\n\")\n",
    "\n",
    "                        #f.write(f\"\\\\item \\\\variation{{{var}}}\\n\")\n",
    "                else:\n",
    "                    f.write(f\"\\\\item \\\\variation{{{var}}}\\n\")\n",
    "                    #print('zz')\n",
    "            f.write('\\\\end{itemize}\\n')\n",
    "            f.write('\\n')\n",
    "            f.write(f\"\\\\clearpage \\n\")\n",
    "            f.write(f\"\\\\newpage \\n\")\n",
    "            f.write('\\n')\n",
    "\n",
    "\n",
    "\n",
    "\n",
    "\n",
    "\n",
    "\n",
    "        #fboard = f'\\\\fenboard{maintemp}'\n",
    "        #f.write(fboard)\n",
    "        #f.write('\\\\begin{center}\\n')\n",
    "        #f.write('\\\\chessboard[setfen={fen}]\\n'.format(fen=fentemp))\n",
    "        #f.write('\\\\begin{end}\\n')\n",
    "\n",
    "\n"
   ]
  },
  {
   "cell_type": "code",
   "execution_count": 143,
   "metadata": {},
   "outputs": [
    {
     "ename": "NameError",
     "evalue": "name 'HEre' is not defined",
     "output_type": "error",
     "traceback": [
      "\u001b[0;31m---------------------------------------------------------------------------\u001b[0m",
      "\u001b[0;31mNameError\u001b[0m                                 Traceback (most recent call last)",
      "\u001b[0;32m<ipython-input-143-e5e3241344f1>\u001b[0m in \u001b[0;36m<module>\u001b[0;34m\u001b[0m\n\u001b[0;32m----> 1\u001b[0;31m \u001b[0mHEre\u001b[0m\u001b[0;34m\u001b[0m\u001b[0;34m\u001b[0m\u001b[0m\n\u001b[0m",
      "\u001b[0;31mNameError\u001b[0m: name 'HEre' is not defined"
     ]
    }
   ],
   "source": [
    "HEre "
   ]
  },
  {
   "cell_type": "code",
   "execution_count": 85,
   "metadata": {},
   "outputs": [
    {
     "data": {
      "text/plain": [
       "[['2. Nf6+ Rxf6 '],\n",
       " [' 2... gxf6 3. fxg3 ', ' 3. Qxf6 gxf6 '],\n",
       " [' 3... Qxg2+ 4. Kxg2 gxf6 ', '']]"
      ]
     },
     "execution_count": 85,
     "metadata": {},
     "output_type": "execute_result"
    }
   ],
   "source": []
  },
  {
   "cell_type": "code",
   "execution_count": 80,
   "metadata": {},
   "outputs": [
    {
     "data": {
      "text/plain": [
       "['( 2... gxf6 3. fxg3 )', '( 3... Qxg2+ 4. Kxg2 gxf6 )']"
      ]
     },
     "execution_count": 80,
     "metadata": {},
     "output_type": "execute_result"
    }
   ],
   "source": [
    "re.findall('\\([^()]*\\)', str(var))"
   ]
  },
  {
   "cell_type": "code",
   "execution_count": null,
   "metadata": {},
   "outputs": [],
   "source": [
    "\\fenboard{8/7p/4kb2/5Rp1/8/2rB4/3K2PP/8 w - - 0 1}\n",
    "\n",
    "\n",
    "\n",
    "\\begin{center}\n",
    "\\chessboard[setfen={}] \n",
    "\\end{center}\n",
    "\n",
    "\n",
    "\n",
    "\\begin{itemize}\n",
    "    \\item \\variation{1.Ra5 Rc6 2.Ke3}\n",
    "    \\item \\variation{1.Ra5 Rc6 2.Ke3}\n",
    "\\end{itemize}\n",
    "\\mainline{1.Rxf6+ Kxf6 2.Kxc3 }\n",
    "\n",
    "\n"
   ]
  },
  {
   "cell_type": "code",
   "execution_count": null,
   "metadata": {},
   "outputs": [],
   "source": []
  },
  {
   "cell_type": "code",
   "execution_count": null,
   "metadata": {},
   "outputs": [],
   "source": []
  },
  {
   "cell_type": "code",
   "execution_count": null,
   "metadata": {},
   "outputs": [],
   "source": []
  },
  {
   "cell_type": "code",
   "execution_count": 19,
   "metadata": {},
   "outputs": [
    {
     "data": {
      "text/plain": [
       "Headers(Event='?', Site='?', Date='2020.07.20', Round='?', White='?', Black='?', Result='*', FEN='8/7p/4kb2/5Rp1/8/2rB4/3K2PP/8 w - - 0 1', SetUp='1')"
      ]
     },
     "execution_count": 19,
     "metadata": {},
     "output_type": "execute_result"
    }
   ],
   "source": [
    "gamechap[0].headers"
   ]
  },
  {
   "cell_type": "code",
   "execution_count": 18,
   "metadata": {},
   "outputs": [
    {
     "name": "stdout",
     "output_type": "stream",
     "text": [
      "1. Rxf6+ Kxf6 2. Kxc3\n"
     ]
    }
   ],
   "source": [
    "print(gamechap[0].mainline_moves())"
   ]
  },
  {
   "cell_type": "code",
   "execution_count": 17,
   "metadata": {},
   "outputs": [
    {
     "name": "stdout",
     "output_type": "stream",
     "text": [
      "f5f6\n",
      "e6f6\n",
      "d2c3\n"
     ]
    }
   ],
   "source": [
    "for num,move in enumerate(gamechap[0].mainline_moves()):\n",
    "    print(move)"
   ]
  },
  {
   "cell_type": "code",
   "execution_count": 9,
   "metadata": {},
   "outputs": [
    {
     "data": {
      "text/plain": [
       "[<GameNode at 0x7f0f10e40e50 (1. Rxf6+ ...)>,\n",
       " <GameNode at 0x7f0f10e40e10 (1. Rf3 ...)>,\n",
       " <GameNode at 0x7f0f10e4d310 (1. Ra5 ...)>,\n",
       " <GameNode at 0x7f0f10e4d1d0 (1. Rb5 ...)>,\n",
       " <GameNode at 0x7f0f10e4d350 (1. g4 ...)>,\n",
       " <GameNode at 0x7f0f10e4d4d0 (1. Ke3 ...)>,\n",
       " <GameNode at 0x7f0f10e4d690 (1. Be4 ...)>,\n",
       " <GameNode at 0x7f0f10e4dd10 (1. Rxg5 ...)>,\n",
       " <GameNode at 0x7f0f10e4d890 (1. g3 ...)>,\n",
       " <GameNode at 0x7f0f10e4de10 (1. h4 ...)>,\n",
       " <GameNode at 0x7f0f10e4d450 (1. h3 ...)>,\n",
       " <GameNode at 0x7f0f10e52690 (1. Bc4+ ...)>,\n",
       " <GameNode at 0x7f0f10e52990 (1. Rd5 ...)>,\n",
       " <GameNode at 0x7f0f10e52850 (1. Ke2 ...)>,\n",
       " <GameNode at 0x7f0f10e52b90 (1. Re5+ ...)>,\n",
       " <GameNode at 0x7f0f10e52d50 (1. Rf2 ...)>,\n",
       " <GameNode at 0x7f0f10e52f90 (1. Rc5 ...)>,\n",
       " <GameNode at 0x7f0f10dd80d0 (1. Rf1 ...)>,\n",
       " <GameNode at 0x7f0f10dd83d0 (1. Kd1 ...)>]"
      ]
     },
     "execution_count": 9,
     "metadata": {},
     "output_type": "execute_result"
    }
   ],
   "source": [
    "gamechap[0].variations"
   ]
  },
  {
   "cell_type": "code",
   "execution_count": null,
   "metadata": {},
   "outputs": [],
   "source": []
  }
 ],
 "metadata": {
  "kernelspec": {
   "display_name": "Python 3",
   "language": "python",
   "name": "python3"
  },
  "language_info": {
   "codemirror_mode": {
    "name": "ipython",
    "version": 3
   },
   "file_extension": ".py",
   "mimetype": "text/x-python",
   "name": "python",
   "nbconvert_exporter": "python",
   "pygments_lexer": "ipython3",
   "version": "3.7.4"
  }
 },
 "nbformat": 4,
 "nbformat_minor": 4
}

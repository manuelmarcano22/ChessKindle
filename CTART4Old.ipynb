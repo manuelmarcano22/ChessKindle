{
 "cells": [
  {
   "cell_type": "code",
   "execution_count": 1,
   "metadata": {},
   "outputs": [],
   "source": [
    "import chess.pgn\n",
    "import numpy as np\n",
    "import os"
   ]
  },
  {
   "cell_type": "code",
   "execution_count": 2,
   "metadata": {},
   "outputs": [],
   "source": [
    "pgn = open('Level10.pgn')\n"
   ]
  },
  {
   "cell_type": "code",
   "execution_count": 3,
   "metadata": {},
   "outputs": [],
   "source": [
    "turnb = 'Black to move'\n",
    "turnw = 'White to move'\n",
    "turn = turnw\n",
    "\n",
    "dividedgames = []\n",
    "\n",
    "gamechap = []\n",
    "\n",
    "while True:\n",
    "    game = pgn.tell()\n",
    "    gamepgn = chess.pgn.read_game(pgn)\n",
    "    #print(headers.get('White'))\n",
    "    if gamepgn is None:\n",
    "        break\n",
    "    #if gamepgn.headers['White'] == turn:\n",
    "    gamechap.append(gamepgn)\n",
    "    dividedgames.append(gamechap)"
   ]
  },
  {
   "cell_type": "code",
   "execution_count": null,
   "metadata": {},
   "outputs": [],
   "source": []
  },
  {
   "cell_type": "code",
   "execution_count": null,
   "metadata": {},
   "outputs": [],
   "source": []
  },
  {
   "cell_type": "code",
   "execution_count": null,
   "metadata": {},
   "outputs": [],
   "source": []
  },
  {
   "cell_type": "code",
   "execution_count": null,
   "metadata": {},
   "outputs": [],
   "source": []
  },
  {
   "cell_type": "code",
   "execution_count": null,
   "metadata": {},
   "outputs": [],
   "source": [
    "\\documentclass{book}\n",
    "\\usepackage[ps,mover]{skak}\n",
    "\\begin{document}\n",
    "\\parindent=0pt\n",
    "\\newgame\n",
    "\\mainline{1. d4 d5} \\mainline{2. c4 Nf6 }\n",
    "\\mainline{3.Ka1 Qa1 4.Ra1 Ba1 5.Na1 a1}\n",
    "\\showboard\n",
    "\\end{document}    "
   ]
  },
  {
   "cell_type": "code",
   "execution_count": 54,
   "metadata": {},
   "outputs": [],
   "source": [
    "n = 'uno.txt'\n",
    "game = gamechap[0]\n",
    "\n",
    "with open(n,'w') as f:\n",
    "    mainlinestemp = str(game.mainline_moves())\n",
    "    fentemp = game.headers['FEN']\n",
    "    turn = 'w'\n",
    "    if turn == 'w':\n",
    "        inv = 'false'\n",
    "    else:\n",
    "        inv = 'false'\n",
    "    f.write(f\"\\\\fenboard{{{fentemp}}}\\n\")\n",
    "    f.write('\\\\begin{center}\\n')\n",
    "    f.write(f\"\\\\showboard \\n\")\n",
    "\n",
    "    #f.write(f\"\\\\chessboard[setfen={fentemp},inverse={inv}]\\n\")\n",
    "    f.write('\\\\end{center}\\n')\n",
    "    \n",
    "    #f.write(f\"\\\\mainline{{{mainlinestemp}}}\")\n",
    "    f.write(f\"\\\\clearpage \\n\")\n",
    "    \n",
    "    f.write(f\"\\\\mainline{{{mainlinestemp}}}\")\n",
    "    \n",
    "    f.write(f\"\\\\fenboard{{{fentemp}}}\\n\")\n",
    "    f.write('\\\\begin{center}\\n')\n",
    "    \n",
    "    f.write(f\"\\\\showboard \\n\")\n",
    "\n",
    "    #f.write(f\"\\\\chessboard[setfen={fentemp},inverse={inv}]\\n\")\n",
    "    f.write('\\\\end{center}\\n')\n",
    "    \n",
    "    f.write(f\"\\\\fenboard{{{fentemp}}}\\n\")\n",
    "\n",
    "    \n",
    "    #Write variations\n",
    "    if len(game.variations) > 0:\n",
    "        f.write('\\\\begin{itemize}\\n')\n",
    "        for var in game.variations:\n",
    "            f.write(f\"\\\\item \\\\variation{{{var}}}\\n\")    \n",
    "        f.write('\\\\end{itemize}\\n')\n",
    "\n",
    "    \n",
    "\n",
    "    \n",
    "    \n",
    "    #fboard = f'\\\\fenboard{maintemp}'\n",
    "    #f.write(fboard)\n",
    "    #f.write('\\\\begin{center}\\n')\n",
    "    #f.write('\\\\chessboard[setfen={fen}]\\n'.format(fen=fentemp))\n",
    "    #f.write('\\\\begin{end}\\n')\n",
    "\n",
    "    \n",
    "    "
   ]
  },
  {
   "cell_type": "code",
   "execution_count": null,
   "metadata": {},
   "outputs": [],
   "source": [
    "n = 42  \n",
    "print(f\" {{Hello}} {n} \")"
   ]
  },
  {
   "cell_type": "code",
   "execution_count": 30,
   "metadata": {},
   "outputs": [
    {
     "data": {
      "text/plain": [
       "'\\x08egin1. Rxf6+ Kxf6 2. Kxc3\\n'"
      ]
     },
     "execution_count": 30,
     "metadata": {},
     "output_type": "execute_result"
    }
   ],
   "source": [
    "file.write(’\\\\begin{document}\\n’)"
   ]
  },
  {
   "cell_type": "code",
   "execution_count": null,
   "metadata": {},
   "outputs": [],
   "source": [
    "\\fenboard{8/7p/4kb2/5Rp1/8/2rB4/3K2PP/8 w - - 0 1}\n",
    "\n",
    "\n",
    "\n",
    "\\begin{center}\n",
    "\\chessboard[setfen={}] \n",
    "\\end{center}\n",
    "\n",
    "\n",
    "\n",
    "\\begin{itemize}\n",
    "    \\item \\variation{1.Ra5 Rc6 2.Ke3}\n",
    "    \\item \\variation{1.Ra5 Rc6 2.Ke3}\n",
    "\\end{itemize}\n",
    "\\mainline{1.Rxf6+ Kxf6 2.Kxc3 }\n",
    "\n",
    "\n"
   ]
  },
  {
   "cell_type": "code",
   "execution_count": null,
   "metadata": {},
   "outputs": [],
   "source": []
  },
  {
   "cell_type": "code",
   "execution_count": null,
   "metadata": {},
   "outputs": [],
   "source": []
  },
  {
   "cell_type": "code",
   "execution_count": null,
   "metadata": {},
   "outputs": [],
   "source": []
  },
  {
   "cell_type": "code",
   "execution_count": 19,
   "metadata": {},
   "outputs": [
    {
     "data": {
      "text/plain": [
       "Headers(Event='?', Site='?', Date='2020.07.20', Round='?', White='?', Black='?', Result='*', FEN='8/7p/4kb2/5Rp1/8/2rB4/3K2PP/8 w - - 0 1', SetUp='1')"
      ]
     },
     "execution_count": 19,
     "metadata": {},
     "output_type": "execute_result"
    }
   ],
   "source": [
    "gamechap[0].headers"
   ]
  },
  {
   "cell_type": "code",
   "execution_count": 18,
   "metadata": {},
   "outputs": [
    {
     "name": "stdout",
     "output_type": "stream",
     "text": [
      "1. Rxf6+ Kxf6 2. Kxc3\n"
     ]
    }
   ],
   "source": [
    "print(gamechap[0].mainline_moves())"
   ]
  },
  {
   "cell_type": "code",
   "execution_count": 17,
   "metadata": {},
   "outputs": [
    {
     "name": "stdout",
     "output_type": "stream",
     "text": [
      "f5f6\n",
      "e6f6\n",
      "d2c3\n"
     ]
    }
   ],
   "source": [
    "for num,move in enumerate(gamechap[0].mainline_moves()):\n",
    "    print(move)"
   ]
  },
  {
   "cell_type": "code",
   "execution_count": 9,
   "metadata": {},
   "outputs": [
    {
     "data": {
      "text/plain": [
       "[<GameNode at 0x7f0f10e40e50 (1. Rxf6+ ...)>,\n",
       " <GameNode at 0x7f0f10e40e10 (1. Rf3 ...)>,\n",
       " <GameNode at 0x7f0f10e4d310 (1. Ra5 ...)>,\n",
       " <GameNode at 0x7f0f10e4d1d0 (1. Rb5 ...)>,\n",
       " <GameNode at 0x7f0f10e4d350 (1. g4 ...)>,\n",
       " <GameNode at 0x7f0f10e4d4d0 (1. Ke3 ...)>,\n",
       " <GameNode at 0x7f0f10e4d690 (1. Be4 ...)>,\n",
       " <GameNode at 0x7f0f10e4dd10 (1. Rxg5 ...)>,\n",
       " <GameNode at 0x7f0f10e4d890 (1. g3 ...)>,\n",
       " <GameNode at 0x7f0f10e4de10 (1. h4 ...)>,\n",
       " <GameNode at 0x7f0f10e4d450 (1. h3 ...)>,\n",
       " <GameNode at 0x7f0f10e52690 (1. Bc4+ ...)>,\n",
       " <GameNode at 0x7f0f10e52990 (1. Rd5 ...)>,\n",
       " <GameNode at 0x7f0f10e52850 (1. Ke2 ...)>,\n",
       " <GameNode at 0x7f0f10e52b90 (1. Re5+ ...)>,\n",
       " <GameNode at 0x7f0f10e52d50 (1. Rf2 ...)>,\n",
       " <GameNode at 0x7f0f10e52f90 (1. Rc5 ...)>,\n",
       " <GameNode at 0x7f0f10dd80d0 (1. Rf1 ...)>,\n",
       " <GameNode at 0x7f0f10dd83d0 (1. Kd1 ...)>]"
      ]
     },
     "execution_count": 9,
     "metadata": {},
     "output_type": "execute_result"
    }
   ],
   "source": [
    "gamechap[0].variations"
   ]
  },
  {
   "cell_type": "code",
   "execution_count": null,
   "metadata": {},
   "outputs": [],
   "source": []
  }
 ],
 "metadata": {
  "kernelspec": {
   "display_name": "Python 3",
   "language": "python",
   "name": "python3"
  },
  "language_info": {
   "codemirror_mode": {
    "name": "ipython",
    "version": 3
   },
   "file_extension": ".py",
   "mimetype": "text/x-python",
   "name": "python",
   "nbconvert_exporter": "python",
   "pygments_lexer": "ipython3",
   "version": "3.7.4"
  }
 },
 "nbformat": 4,
 "nbformat_minor": 4
}
